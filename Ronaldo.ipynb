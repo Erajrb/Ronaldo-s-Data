{
 "cells": [
  {
   "cell_type": "markdown",
   "id": "be47e458",
   "metadata": {},
   "source": [
    "# <font color = Blue> Ronaldo"
   ]
  },
  {
   "cell_type": "markdown",
   "id": "6e8d8559",
   "metadata": {},
   "source": [
    "#### <font color =Red>1. Read the CSV and convert it into a data frame"
   ]
  },
  {
   "cell_type": "code",
   "execution_count": 1,
   "id": "95315b40",
   "metadata": {},
   "outputs": [],
   "source": [
    "# import panda and use pd fxn to read the csv file\n",
    "\n",
    "import pandas as pd"
   ]
  },
  {
   "cell_type": "code",
   "execution_count": 2,
   "id": "d8d69396",
   "metadata": {},
   "outputs": [],
   "source": [
    "cr7 = pd.read_csv('C:\\\\Users\\\\ErajR\\\\Techaxis\\\\ronaldo.csv')"
   ]
  },
  {
   "cell_type": "code",
   "execution_count": 3,
   "id": "d91fe4d0",
   "metadata": {},
   "outputs": [
    {
     "data": {
      "text/html": [
       "<div>\n",
       "<style scoped>\n",
       "    .dataframe tbody tr th:only-of-type {\n",
       "        vertical-align: middle;\n",
       "    }\n",
       "\n",
       "    .dataframe tbody tr th {\n",
       "        vertical-align: top;\n",
       "    }\n",
       "\n",
       "    .dataframe thead th {\n",
       "        text-align: right;\n",
       "    }\n",
       "</style>\n",
       "<table border=\"1\" class=\"dataframe\">\n",
       "  <thead>\n",
       "    <tr style=\"text-align: right;\">\n",
       "      <th></th>\n",
       "      <th>Season</th>\n",
       "      <th>Competition</th>\n",
       "      <th>Matchday</th>\n",
       "      <th>Date</th>\n",
       "      <th>Venue</th>\n",
       "      <th>Club</th>\n",
       "      <th>Opponent</th>\n",
       "      <th>Result</th>\n",
       "      <th>Playing_Position</th>\n",
       "      <th>Minute</th>\n",
       "      <th>At_score</th>\n",
       "      <th>Type</th>\n",
       "      <th>Goal_assist</th>\n",
       "    </tr>\n",
       "  </thead>\n",
       "  <tbody>\n",
       "    <tr>\n",
       "      <th>0</th>\n",
       "      <td>02/03</td>\n",
       "      <td>Liga Portugal</td>\n",
       "      <td>6</td>\n",
       "      <td>10/7/02</td>\n",
       "      <td>H</td>\n",
       "      <td>Sporting CP</td>\n",
       "      <td>Moreirense FC</td>\n",
       "      <td>3:0</td>\n",
       "      <td>LW</td>\n",
       "      <td>34</td>\n",
       "      <td>2:0</td>\n",
       "      <td>Solo run</td>\n",
       "      <td>NaN</td>\n",
       "    </tr>\n",
       "    <tr>\n",
       "      <th>1</th>\n",
       "      <td>02/03</td>\n",
       "      <td>Liga Portugal</td>\n",
       "      <td>6</td>\n",
       "      <td>10/7/02</td>\n",
       "      <td>H</td>\n",
       "      <td>Sporting CP</td>\n",
       "      <td>Moreirense FC</td>\n",
       "      <td>3:0</td>\n",
       "      <td>LW</td>\n",
       "      <td>90+5</td>\n",
       "      <td>3:0</td>\n",
       "      <td>Header</td>\n",
       "      <td>Rui Jorge</td>\n",
       "    </tr>\n",
       "    <tr>\n",
       "      <th>2</th>\n",
       "      <td>02/03</td>\n",
       "      <td>Liga Portugal</td>\n",
       "      <td>8</td>\n",
       "      <td>10/26/02</td>\n",
       "      <td>A</td>\n",
       "      <td>Sporting CP</td>\n",
       "      <td>Boavista FC</td>\n",
       "      <td>1:2</td>\n",
       "      <td>NaN</td>\n",
       "      <td>88</td>\n",
       "      <td>1:2</td>\n",
       "      <td>Right-footed shot</td>\n",
       "      <td>Carlos Martins</td>\n",
       "    </tr>\n",
       "    <tr>\n",
       "      <th>3</th>\n",
       "      <td>02/03</td>\n",
       "      <td>Taca de Portugal Placard</td>\n",
       "      <td>Fourth Round</td>\n",
       "      <td>11/24/02</td>\n",
       "      <td>H</td>\n",
       "      <td>Sporting CP</td>\n",
       "      <td>CD Estarreja</td>\n",
       "      <td>4:1</td>\n",
       "      <td>NaN</td>\n",
       "      <td>67</td>\n",
       "      <td>3:0</td>\n",
       "      <td>Left-footed shot</td>\n",
       "      <td>Cesar Prates</td>\n",
       "    </tr>\n",
       "    <tr>\n",
       "      <th>4</th>\n",
       "      <td>02/03</td>\n",
       "      <td>Taca de Portugal Placard</td>\n",
       "      <td>Fifth Round</td>\n",
       "      <td>12/18/02</td>\n",
       "      <td>H</td>\n",
       "      <td>Sporting CP</td>\n",
       "      <td>FC Oliveira do Hospital</td>\n",
       "      <td>8:1</td>\n",
       "      <td>NaN</td>\n",
       "      <td>13</td>\n",
       "      <td>3:0</td>\n",
       "      <td>NaN</td>\n",
       "      <td>NaN</td>\n",
       "    </tr>\n",
       "    <tr>\n",
       "      <th>...</th>\n",
       "      <td>...</td>\n",
       "      <td>...</td>\n",
       "      <td>...</td>\n",
       "      <td>...</td>\n",
       "      <td>...</td>\n",
       "      <td>...</td>\n",
       "      <td>...</td>\n",
       "      <td>...</td>\n",
       "      <td>...</td>\n",
       "      <td>...</td>\n",
       "      <td>...</td>\n",
       "      <td>...</td>\n",
       "      <td>...</td>\n",
       "    </tr>\n",
       "    <tr>\n",
       "      <th>693</th>\n",
       "      <td>21/22</td>\n",
       "      <td>Premier League</td>\n",
       "      <td>33</td>\n",
       "      <td>4/16/22</td>\n",
       "      <td>H</td>\n",
       "      <td>Manchester United</td>\n",
       "      <td>Norwich City</td>\n",
       "      <td>3:2</td>\n",
       "      <td>CF</td>\n",
       "      <td>32</td>\n",
       "      <td>2:0</td>\n",
       "      <td>Header</td>\n",
       "      <td>Alex Telles</td>\n",
       "    </tr>\n",
       "    <tr>\n",
       "      <th>694</th>\n",
       "      <td>21/22</td>\n",
       "      <td>Premier League</td>\n",
       "      <td>33</td>\n",
       "      <td>4/16/22</td>\n",
       "      <td>H</td>\n",
       "      <td>Manchester United</td>\n",
       "      <td>Norwich City</td>\n",
       "      <td>3:2</td>\n",
       "      <td>CF</td>\n",
       "      <td>76</td>\n",
       "      <td>3:2</td>\n",
       "      <td>Direct free kick</td>\n",
       "      <td>NaN</td>\n",
       "    </tr>\n",
       "    <tr>\n",
       "      <th>695</th>\n",
       "      <td>21/22</td>\n",
       "      <td>Premier League</td>\n",
       "      <td>34</td>\n",
       "      <td>4/23/22</td>\n",
       "      <td>A</td>\n",
       "      <td>Manchester United</td>\n",
       "      <td>Arsenal FC</td>\n",
       "      <td>3:1</td>\n",
       "      <td>CF</td>\n",
       "      <td>34</td>\n",
       "      <td>2:1</td>\n",
       "      <td>Left-footed shot</td>\n",
       "      <td>Nemanja MatiÄ‡</td>\n",
       "    </tr>\n",
       "    <tr>\n",
       "      <th>696</th>\n",
       "      <td>21/22</td>\n",
       "      <td>Premier League</td>\n",
       "      <td>37</td>\n",
       "      <td>4/28/22</td>\n",
       "      <td>H</td>\n",
       "      <td>Manchester United</td>\n",
       "      <td>Chelsea FC</td>\n",
       "      <td>1:1</td>\n",
       "      <td>CF</td>\n",
       "      <td>62</td>\n",
       "      <td>1:1</td>\n",
       "      <td>Right-footed shot</td>\n",
       "      <td>Nemanja MatiÄ‡</td>\n",
       "    </tr>\n",
       "    <tr>\n",
       "      <th>697</th>\n",
       "      <td>21/22</td>\n",
       "      <td>Premier League</td>\n",
       "      <td>35</td>\n",
       "      <td>5/2/22</td>\n",
       "      <td>H</td>\n",
       "      <td>Manchester United</td>\n",
       "      <td>Brentford FC</td>\n",
       "      <td>3:0</td>\n",
       "      <td>CF</td>\n",
       "      <td>61</td>\n",
       "      <td>2:0</td>\n",
       "      <td>Penalty</td>\n",
       "      <td>NaN</td>\n",
       "    </tr>\n",
       "  </tbody>\n",
       "</table>\n",
       "<p>698 rows × 13 columns</p>\n",
       "</div>"
      ],
      "text/plain": [
       "    Season               Competition      Matchday      Date Venue  \\\n",
       "0    02/03             Liga Portugal             6   10/7/02     H   \n",
       "1    02/03             Liga Portugal             6   10/7/02     H   \n",
       "2    02/03             Liga Portugal             8  10/26/02     A   \n",
       "3    02/03  Taca de Portugal Placard  Fourth Round  11/24/02     H   \n",
       "4    02/03  Taca de Portugal Placard   Fifth Round  12/18/02     H   \n",
       "..     ...                       ...           ...       ...   ...   \n",
       "693  21/22            Premier League            33   4/16/22     H   \n",
       "694  21/22            Premier League            33   4/16/22     H   \n",
       "695  21/22            Premier League            34   4/23/22     A   \n",
       "696  21/22            Premier League            37   4/28/22     H   \n",
       "697  21/22            Premier League            35    5/2/22     H   \n",
       "\n",
       "                  Club                 Opponent Result Playing_Position  \\\n",
       "0          Sporting CP            Moreirense FC    3:0               LW   \n",
       "1          Sporting CP            Moreirense FC    3:0               LW   \n",
       "2          Sporting CP              Boavista FC    1:2              NaN   \n",
       "3          Sporting CP             CD Estarreja    4:1              NaN   \n",
       "4          Sporting CP  FC Oliveira do Hospital    8:1              NaN   \n",
       "..                 ...                      ...    ...              ...   \n",
       "693  Manchester United             Norwich City    3:2               CF   \n",
       "694  Manchester United             Norwich City    3:2               CF   \n",
       "695  Manchester United               Arsenal FC    3:1               CF   \n",
       "696  Manchester United               Chelsea FC    1:1               CF   \n",
       "697  Manchester United             Brentford FC    3:0               CF   \n",
       "\n",
       "    Minute At_score               Type     Goal_assist  \n",
       "0       34      2:0           Solo run             NaN  \n",
       "1     90+5      3:0             Header       Rui Jorge  \n",
       "2       88      1:2  Right-footed shot  Carlos Martins  \n",
       "3       67      3:0   Left-footed shot    Cesar Prates  \n",
       "4       13      3:0                NaN             NaN  \n",
       "..     ...      ...                ...             ...  \n",
       "693     32      2:0             Header     Alex Telles  \n",
       "694     76      3:2   Direct free kick             NaN  \n",
       "695     34      2:1   Left-footed shot  Nemanja MatiÄ‡  \n",
       "696     62      1:1  Right-footed shot  Nemanja MatiÄ‡  \n",
       "697     61      2:0            Penalty             NaN  \n",
       "\n",
       "[698 rows x 13 columns]"
      ]
     },
     "execution_count": 3,
     "metadata": {},
     "output_type": "execute_result"
    }
   ],
   "source": [
    "cr7"
   ]
  },
  {
   "cell_type": "markdown",
   "id": "d856bcf9",
   "metadata": {},
   "source": [
    "#### <font color =Red>2. Print the shape and info of the data frame"
   ]
  },
  {
   "cell_type": "code",
   "execution_count": 4,
   "id": "ea264127",
   "metadata": {},
   "outputs": [
    {
     "data": {
      "text/plain": [
       "(698, 13)"
      ]
     },
     "execution_count": 4,
     "metadata": {},
     "output_type": "execute_result"
    }
   ],
   "source": [
    "# use .shape fxn to display the no of rows and columns\n",
    "\n",
    "cr7.shape"
   ]
  },
  {
   "cell_type": "code",
   "execution_count": 5,
   "id": "69470a4e",
   "metadata": {},
   "outputs": [
    {
     "data": {
      "text/plain": [
       "<bound method DataFrame.info of     Season               Competition      Matchday      Date Venue  \\\n",
       "0    02/03             Liga Portugal             6   10/7/02     H   \n",
       "1    02/03             Liga Portugal             6   10/7/02     H   \n",
       "2    02/03             Liga Portugal             8  10/26/02     A   \n",
       "3    02/03  Taca de Portugal Placard  Fourth Round  11/24/02     H   \n",
       "4    02/03  Taca de Portugal Placard   Fifth Round  12/18/02     H   \n",
       "..     ...                       ...           ...       ...   ...   \n",
       "693  21/22            Premier League            33   4/16/22     H   \n",
       "694  21/22            Premier League            33   4/16/22     H   \n",
       "695  21/22            Premier League            34   4/23/22     A   \n",
       "696  21/22            Premier League            37   4/28/22     H   \n",
       "697  21/22            Premier League            35    5/2/22     H   \n",
       "\n",
       "                  Club                 Opponent Result Playing_Position  \\\n",
       "0          Sporting CP            Moreirense FC    3:0               LW   \n",
       "1          Sporting CP            Moreirense FC    3:0               LW   \n",
       "2          Sporting CP              Boavista FC    1:2              NaN   \n",
       "3          Sporting CP             CD Estarreja    4:1              NaN   \n",
       "4          Sporting CP  FC Oliveira do Hospital    8:1              NaN   \n",
       "..                 ...                      ...    ...              ...   \n",
       "693  Manchester United             Norwich City    3:2               CF   \n",
       "694  Manchester United             Norwich City    3:2               CF   \n",
       "695  Manchester United               Arsenal FC    3:1               CF   \n",
       "696  Manchester United               Chelsea FC    1:1               CF   \n",
       "697  Manchester United             Brentford FC    3:0               CF   \n",
       "\n",
       "    Minute At_score               Type     Goal_assist  \n",
       "0       34      2:0           Solo run             NaN  \n",
       "1     90+5      3:0             Header       Rui Jorge  \n",
       "2       88      1:2  Right-footed shot  Carlos Martins  \n",
       "3       67      3:0   Left-footed shot    Cesar Prates  \n",
       "4       13      3:0                NaN             NaN  \n",
       "..     ...      ...                ...             ...  \n",
       "693     32      2:0             Header     Alex Telles  \n",
       "694     76      3:2   Direct free kick             NaN  \n",
       "695     34      2:1   Left-footed shot  Nemanja MatiÄ‡  \n",
       "696     62      1:1  Right-footed shot  Nemanja MatiÄ‡  \n",
       "697     61      2:0            Penalty             NaN  \n",
       "\n",
       "[698 rows x 13 columns]>"
      ]
     },
     "execution_count": 5,
     "metadata": {},
     "output_type": "execute_result"
    }
   ],
   "source": [
    "# use .info to display the information\n",
    "\n",
    "cr7.info"
   ]
  },
  {
   "cell_type": "markdown",
   "id": "8956d7d5",
   "metadata": {},
   "source": [
    "#### <font color =Red>3. List out the names of the columns"
   ]
  },
  {
   "cell_type": "code",
   "execution_count": 6,
   "id": "90501389",
   "metadata": {},
   "outputs": [
    {
     "data": {
      "text/plain": [
       "Index(['Season', 'Competition', 'Matchday', 'Date', 'Venue', 'Club',\n",
       "       'Opponent', 'Result', 'Playing_Position', 'Minute', 'At_score', 'Type',\n",
       "       'Goal_assist'],\n",
       "      dtype='object')"
      ]
     },
     "execution_count": 6,
     "metadata": {},
     "output_type": "execute_result"
    }
   ],
   "source": [
    "# use .columns fxn to display the name of the columns as a list\n",
    "\n",
    "cr7.columns"
   ]
  },
  {
   "cell_type": "markdown",
   "id": "6d3267c1",
   "metadata": {},
   "source": [
    "#### <font color =Red>4. Generate unique counts of all the columns"
   ]
  },
  {
   "cell_type": "code",
   "execution_count": 7,
   "id": "2fa1a71d",
   "metadata": {},
   "outputs": [
    {
     "data": {
      "text/plain": [
       "Season               20\n",
       "Competition          15\n",
       "Matchday             52\n",
       "Date                461\n",
       "Venue                 2\n",
       "Club                  4\n",
       "Opponent            124\n",
       "Result               51\n",
       "Playing_Position      5\n",
       "Minute              106\n",
       "At_score             35\n",
       "Type                 11\n",
       "Goal_assist          86\n",
       "dtype: int64"
      ]
     },
     "execution_count": 7,
     "metadata": {},
     "output_type": "execute_result"
    }
   ],
   "source": [
    "# use .nunique fxn to count the unique values in every column \n",
    "\n",
    "cr7[['Season', 'Competition', 'Matchday', 'Date', 'Venue', 'Club',\n",
    "       'Opponent', 'Result', 'Playing_Position', 'Minute', 'At_score', 'Type',\n",
    "       'Goal_assist']].nunique()"
   ]
  },
  {
   "cell_type": "markdown",
   "id": "a6b43bfb",
   "metadata": {},
   "source": [
    "#### <font color =Red>5. Generate the plot of Ronaldo’s goals in all the competitions"
   ]
  },
  {
   "cell_type": "code",
   "execution_count": 8,
   "id": "1c1404ef",
   "metadata": {},
   "outputs": [
    {
     "data": {
      "text/plain": [
       "<AxesSubplot:>"
      ]
     },
     "execution_count": 8,
     "metadata": {},
     "output_type": "execute_result"
    },
    {
     "data": {
      "image/png": "[encoded data removed]",
      "text/plain": [
       "<Figure size 640x480 with 1 Axes>"
      ]
     },
     "metadata": {},
     "output_type": "display_data"
    }
   ],
   "source": [
    "# use .value_counts() and plot.bar() fxn to count the goals in the competition and plot it\n",
    "\n",
    "cr7.Competition.value_counts().plot.bar()"
   ]
  },
  {
   "cell_type": "markdown",
   "id": "e7f0eff4",
   "metadata": {},
   "source": [
    "#### <font color =Red>6. How many goals per season has Ronaldo scored?"
   ]
  },
  {
   "cell_type": "code",
   "execution_count": 9,
   "id": "06f2dac2",
   "metadata": {},
   "outputs": [
    {
     "data": {
      "text/plain": [
       "14/15    61\n",
       "11/12    60\n",
       "12/13    55\n",
       "10/11    53\n",
       "13/14    51\n",
       "15/16    51\n",
       "17/18    44\n",
       "16/17    42\n",
       "07/08    42\n",
       "19/20    37\n",
       "20/21    36\n",
       "09/10    33\n",
       "18/19    28\n",
       "08/09    26\n",
       "21/22    24\n",
       "06/07    23\n",
       "05/06    12\n",
       "04/05     9\n",
       "03/04     6\n",
       "02/03     5\n",
       "Name: Season, dtype: int64"
      ]
     },
     "execution_count": 9,
     "metadata": {},
     "output_type": "execute_result"
    }
   ],
   "source": [
    "# use value_counts() fxn to count the goals scored every season\n",
    "\n",
    "cr7.Season.value_counts()"
   ]
  },
  {
   "cell_type": "markdown",
   "id": "7510c6dc",
   "metadata": {},
   "source": [
    "#### <font color =Red>7. Plot goals per club data"
   ]
  },
  {
   "cell_type": "code",
   "execution_count": 19,
   "id": "c839fd4d",
   "metadata": {
    "scrolled": true
   },
   "outputs": [
    {
     "data": {
      "text/plain": [
       "<AxesSubplot:ylabel='Club'>"
      ]
     },
     "execution_count": 19,
     "metadata": {},
     "output_type": "execute_result"
    },
    {
     "data": {
      "image/png": "[encoded data removed]",
      "text/plain": [
       "<Figure size 640x480 with 1 Axes>"
      ]
     },
     "metadata": {},
     "output_type": "display_data"
    }
   ],
   "source": [
    "# use .plot.pie() fxn to plot a pie chart\n",
    "\n",
    "cr7.Club.value_counts().plot.pie()"
   ]
  },
  {
   "cell_type": "markdown",
   "id": "ccc788c0",
   "metadata": {},
   "source": [
    "#### <font color =Red>8. Plot goals per playing position"
   ]
  },
  {
   "cell_type": "code",
   "execution_count": 20,
   "id": "659f830f",
   "metadata": {},
   "outputs": [
    {
     "data": {
      "text/plain": [
       "<AxesSubplot:>"
      ]
     },
     "execution_count": 20,
     "metadata": {},
     "output_type": "execute_result"
    },
    {
     "data": {
      "image/png": "[encoded data removed]",
      "text/plain": [
       "<Figure size 640x480 with 1 Axes>"
      ]
     },
     "metadata": {},
     "output_type": "display_data"
    }
   ],
   "source": [
    "# use plot.bar() fxn to plot bar graph\n",
    "\n",
    "cr7.Playing_Position.value_counts().plot.bar()"
   ]
  },
  {
   "cell_type": "markdown",
   "id": "e675f543",
   "metadata": {},
   "source": [
    "#### <font color =Red>9. Plot Goals per Type of goal scoring (Eg: Header, Freekick, etc)"
   ]
  },
  {
   "cell_type": "code",
   "execution_count": 21,
   "id": "c0cbaafb",
   "metadata": {},
   "outputs": [
    {
     "data": {
      "text/plain": [
       "<AxesSubplot:>"
      ]
     },
     "execution_count": 21,
     "metadata": {},
     "output_type": "execute_result"
    },
    {
     "data": {
      "image/png": "[encoded data removed]",
      "text/plain": [
       "<Figure size 640x480 with 1 Axes>"
      ]
     },
     "metadata": {},
     "output_type": "display_data"
    }
   ],
   "source": [
    "# use plot.bar()\n",
    "\n",
    "cr7.Type.value_counts().plot.bar()"
   ]
  },
  {
   "cell_type": "markdown",
   "id": "95ffb439",
   "metadata": {},
   "source": [
    "#### <font color =Red>10. Draw a line graph that shows the trend of Ronaldo's goals scored year by year"
   ]
  },
  {
   "cell_type": "code",
   "execution_count": 24,
   "id": "13ab43ba",
   "metadata": {
    "scrolled": true
   },
   "outputs": [
    {
     "data": {
      "text/html": [
       "<div>\n",
       "<style scoped>\n",
       "    .dataframe tbody tr th:only-of-type {\n",
       "        vertical-align: middle;\n",
       "    }\n",
       "\n",
       "    .dataframe tbody tr th {\n",
       "        vertical-align: top;\n",
       "    }\n",
       "\n",
       "    .dataframe thead th {\n",
       "        text-align: right;\n",
       "    }\n",
       "</style>\n",
       "<table border=\"1\" class=\"dataframe\">\n",
       "  <thead>\n",
       "    <tr style=\"text-align: right;\">\n",
       "      <th></th>\n",
       "      <th>Competition</th>\n",
       "      <th>Matchday</th>\n",
       "      <th>Date</th>\n",
       "      <th>Venue</th>\n",
       "      <th>Club</th>\n",
       "      <th>Opponent</th>\n",
       "      <th>Result</th>\n",
       "      <th>Playing_Position</th>\n",
       "      <th>Minute</th>\n",
       "      <th>At_score</th>\n",
       "      <th>Type</th>\n",
       "      <th>Goal_assist</th>\n",
       "    </tr>\n",
       "    <tr>\n",
       "      <th>Season</th>\n",
       "      <th></th>\n",
       "      <th></th>\n",
       "      <th></th>\n",
       "      <th></th>\n",
       "      <th></th>\n",
       "      <th></th>\n",
       "      <th></th>\n",
       "      <th></th>\n",
       "      <th></th>\n",
       "      <th></th>\n",
       "      <th></th>\n",
       "      <th></th>\n",
       "    </tr>\n",
       "  </thead>\n",
       "  <tbody>\n",
       "    <tr>\n",
       "      <th>02/03</th>\n",
       "      <td>5</td>\n",
       "      <td>5</td>\n",
       "      <td>5</td>\n",
       "      <td>5</td>\n",
       "      <td>5</td>\n",
       "      <td>5</td>\n",
       "      <td>5</td>\n",
       "      <td>2</td>\n",
       "      <td>5</td>\n",
       "      <td>5</td>\n",
       "      <td>4</td>\n",
       "      <td>3</td>\n",
       "    </tr>\n",
       "    <tr>\n",
       "      <th>03/04</th>\n",
       "      <td>6</td>\n",
       "      <td>6</td>\n",
       "      <td>6</td>\n",
       "      <td>6</td>\n",
       "      <td>6</td>\n",
       "      <td>6</td>\n",
       "      <td>6</td>\n",
       "      <td>3</td>\n",
       "      <td>6</td>\n",
       "      <td>6</td>\n",
       "      <td>6</td>\n",
       "      <td>2</td>\n",
       "    </tr>\n",
       "    <tr>\n",
       "      <th>04/05</th>\n",
       "      <td>9</td>\n",
       "      <td>9</td>\n",
       "      <td>9</td>\n",
       "      <td>9</td>\n",
       "      <td>9</td>\n",
       "      <td>9</td>\n",
       "      <td>9</td>\n",
       "      <td>3</td>\n",
       "      <td>9</td>\n",
       "      <td>9</td>\n",
       "      <td>8</td>\n",
       "      <td>9</td>\n",
       "    </tr>\n",
       "    <tr>\n",
       "      <th>05/06</th>\n",
       "      <td>12</td>\n",
       "      <td>12</td>\n",
       "      <td>12</td>\n",
       "      <td>12</td>\n",
       "      <td>12</td>\n",
       "      <td>12</td>\n",
       "      <td>12</td>\n",
       "      <td>5</td>\n",
       "      <td>12</td>\n",
       "      <td>12</td>\n",
       "      <td>11</td>\n",
       "      <td>8</td>\n",
       "    </tr>\n",
       "    <tr>\n",
       "      <th>06/07</th>\n",
       "      <td>23</td>\n",
       "      <td>23</td>\n",
       "      <td>23</td>\n",
       "      <td>23</td>\n",
       "      <td>23</td>\n",
       "      <td>23</td>\n",
       "      <td>23</td>\n",
       "      <td>11</td>\n",
       "      <td>23</td>\n",
       "      <td>23</td>\n",
       "      <td>13</td>\n",
       "      <td>13</td>\n",
       "    </tr>\n",
       "    <tr>\n",
       "      <th>07/08</th>\n",
       "      <td>42</td>\n",
       "      <td>42</td>\n",
       "      <td>42</td>\n",
       "      <td>42</td>\n",
       "      <td>42</td>\n",
       "      <td>42</td>\n",
       "      <td>42</td>\n",
       "      <td>34</td>\n",
       "      <td>42</td>\n",
       "      <td>42</td>\n",
       "      <td>40</td>\n",
       "      <td>24</td>\n",
       "    </tr>\n",
       "    <tr>\n",
       "      <th>08/09</th>\n",
       "      <td>26</td>\n",
       "      <td>26</td>\n",
       "      <td>26</td>\n",
       "      <td>26</td>\n",
       "      <td>26</td>\n",
       "      <td>26</td>\n",
       "      <td>26</td>\n",
       "      <td>23</td>\n",
       "      <td>26</td>\n",
       "      <td>26</td>\n",
       "      <td>26</td>\n",
       "      <td>15</td>\n",
       "    </tr>\n",
       "    <tr>\n",
       "      <th>09/10</th>\n",
       "      <td>33</td>\n",
       "      <td>33</td>\n",
       "      <td>33</td>\n",
       "      <td>33</td>\n",
       "      <td>33</td>\n",
       "      <td>33</td>\n",
       "      <td>33</td>\n",
       "      <td>19</td>\n",
       "      <td>33</td>\n",
       "      <td>33</td>\n",
       "      <td>33</td>\n",
       "      <td>16</td>\n",
       "    </tr>\n",
       "    <tr>\n",
       "      <th>10/11</th>\n",
       "      <td>53</td>\n",
       "      <td>53</td>\n",
       "      <td>53</td>\n",
       "      <td>53</td>\n",
       "      <td>53</td>\n",
       "      <td>53</td>\n",
       "      <td>53</td>\n",
       "      <td>52</td>\n",
       "      <td>53</td>\n",
       "      <td>53</td>\n",
       "      <td>53</td>\n",
       "      <td>37</td>\n",
       "    </tr>\n",
       "    <tr>\n",
       "      <th>11/12</th>\n",
       "      <td>60</td>\n",
       "      <td>60</td>\n",
       "      <td>60</td>\n",
       "      <td>60</td>\n",
       "      <td>60</td>\n",
       "      <td>60</td>\n",
       "      <td>60</td>\n",
       "      <td>60</td>\n",
       "      <td>60</td>\n",
       "      <td>60</td>\n",
       "      <td>60</td>\n",
       "      <td>38</td>\n",
       "    </tr>\n",
       "    <tr>\n",
       "      <th>12/13</th>\n",
       "      <td>55</td>\n",
       "      <td>55</td>\n",
       "      <td>55</td>\n",
       "      <td>55</td>\n",
       "      <td>55</td>\n",
       "      <td>55</td>\n",
       "      <td>55</td>\n",
       "      <td>55</td>\n",
       "      <td>55</td>\n",
       "      <td>55</td>\n",
       "      <td>55</td>\n",
       "      <td>41</td>\n",
       "    </tr>\n",
       "    <tr>\n",
       "      <th>13/14</th>\n",
       "      <td>51</td>\n",
       "      <td>51</td>\n",
       "      <td>51</td>\n",
       "      <td>51</td>\n",
       "      <td>51</td>\n",
       "      <td>51</td>\n",
       "      <td>51</td>\n",
       "      <td>51</td>\n",
       "      <td>51</td>\n",
       "      <td>51</td>\n",
       "      <td>51</td>\n",
       "      <td>34</td>\n",
       "    </tr>\n",
       "    <tr>\n",
       "      <th>14/15</th>\n",
       "      <td>61</td>\n",
       "      <td>61</td>\n",
       "      <td>61</td>\n",
       "      <td>61</td>\n",
       "      <td>61</td>\n",
       "      <td>61</td>\n",
       "      <td>61</td>\n",
       "      <td>61</td>\n",
       "      <td>61</td>\n",
       "      <td>61</td>\n",
       "      <td>61</td>\n",
       "      <td>44</td>\n",
       "    </tr>\n",
       "    <tr>\n",
       "      <th>15/16</th>\n",
       "      <td>51</td>\n",
       "      <td>51</td>\n",
       "      <td>51</td>\n",
       "      <td>51</td>\n",
       "      <td>51</td>\n",
       "      <td>51</td>\n",
       "      <td>51</td>\n",
       "      <td>51</td>\n",
       "      <td>51</td>\n",
       "      <td>51</td>\n",
       "      <td>51</td>\n",
       "      <td>37</td>\n",
       "    </tr>\n",
       "    <tr>\n",
       "      <th>16/17</th>\n",
       "      <td>42</td>\n",
       "      <td>42</td>\n",
       "      <td>42</td>\n",
       "      <td>42</td>\n",
       "      <td>42</td>\n",
       "      <td>42</td>\n",
       "      <td>42</td>\n",
       "      <td>42</td>\n",
       "      <td>42</td>\n",
       "      <td>42</td>\n",
       "      <td>42</td>\n",
       "      <td>30</td>\n",
       "    </tr>\n",
       "    <tr>\n",
       "      <th>17/18</th>\n",
       "      <td>44</td>\n",
       "      <td>44</td>\n",
       "      <td>44</td>\n",
       "      <td>44</td>\n",
       "      <td>44</td>\n",
       "      <td>44</td>\n",
       "      <td>44</td>\n",
       "      <td>44</td>\n",
       "      <td>44</td>\n",
       "      <td>44</td>\n",
       "      <td>44</td>\n",
       "      <td>31</td>\n",
       "    </tr>\n",
       "    <tr>\n",
       "      <th>18/19</th>\n",
       "      <td>28</td>\n",
       "      <td>28</td>\n",
       "      <td>28</td>\n",
       "      <td>28</td>\n",
       "      <td>28</td>\n",
       "      <td>28</td>\n",
       "      <td>28</td>\n",
       "      <td>28</td>\n",
       "      <td>28</td>\n",
       "      <td>28</td>\n",
       "      <td>28</td>\n",
       "      <td>18</td>\n",
       "    </tr>\n",
       "    <tr>\n",
       "      <th>19/20</th>\n",
       "      <td>37</td>\n",
       "      <td>37</td>\n",
       "      <td>37</td>\n",
       "      <td>37</td>\n",
       "      <td>37</td>\n",
       "      <td>37</td>\n",
       "      <td>37</td>\n",
       "      <td>37</td>\n",
       "      <td>37</td>\n",
       "      <td>37</td>\n",
       "      <td>37</td>\n",
       "      <td>19</td>\n",
       "    </tr>\n",
       "    <tr>\n",
       "      <th>20/21</th>\n",
       "      <td>36</td>\n",
       "      <td>36</td>\n",
       "      <td>36</td>\n",
       "      <td>36</td>\n",
       "      <td>36</td>\n",
       "      <td>36</td>\n",
       "      <td>36</td>\n",
       "      <td>36</td>\n",
       "      <td>36</td>\n",
       "      <td>36</td>\n",
       "      <td>36</td>\n",
       "      <td>23</td>\n",
       "    </tr>\n",
       "    <tr>\n",
       "      <th>21/22</th>\n",
       "      <td>24</td>\n",
       "      <td>24</td>\n",
       "      <td>24</td>\n",
       "      <td>24</td>\n",
       "      <td>24</td>\n",
       "      <td>24</td>\n",
       "      <td>24</td>\n",
       "      <td>24</td>\n",
       "      <td>24</td>\n",
       "      <td>24</td>\n",
       "      <td>24</td>\n",
       "      <td>16</td>\n",
       "    </tr>\n",
       "  </tbody>\n",
       "</table>\n",
       "</div>"
      ],
      "text/plain": [
       "        Competition  Matchday  Date  Venue  Club  Opponent  Result  \\\n",
       "Season                                                               \n",
       "02/03             5         5     5      5     5         5       5   \n",
       "03/04             6         6     6      6     6         6       6   \n",
       "04/05             9         9     9      9     9         9       9   \n",
       "05/06            12        12    12     12    12        12      12   \n",
       "06/07            23        23    23     23    23        23      23   \n",
       "07/08            42        42    42     42    42        42      42   \n",
       "08/09            26        26    26     26    26        26      26   \n",
       "09/10            33        33    33     33    33        33      33   \n",
       "10/11            53        53    53     53    53        53      53   \n",
       "11/12            60        60    60     60    60        60      60   \n",
       "12/13            55        55    55     55    55        55      55   \n",
       "13/14            51        51    51     51    51        51      51   \n",
       "14/15            61        61    61     61    61        61      61   \n",
       "15/16            51        51    51     51    51        51      51   \n",
       "16/17            42        42    42     42    42        42      42   \n",
       "17/18            44        44    44     44    44        44      44   \n",
       "18/19            28        28    28     28    28        28      28   \n",
       "19/20            37        37    37     37    37        37      37   \n",
       "20/21            36        36    36     36    36        36      36   \n",
       "21/22            24        24    24     24    24        24      24   \n",
       "\n",
       "        Playing_Position  Minute  At_score  Type  Goal_assist  \n",
       "Season                                                         \n",
       "02/03                  2       5         5     4            3  \n",
       "03/04                  3       6         6     6            2  \n",
       "04/05                  3       9         9     8            9  \n",
       "05/06                  5      12        12    11            8  \n",
       "06/07                 11      23        23    13           13  \n",
       "07/08                 34      42        42    40           24  \n",
       "08/09                 23      26        26    26           15  \n",
       "09/10                 19      33        33    33           16  \n",
       "10/11                 52      53        53    53           37  \n",
       "11/12                 60      60        60    60           38  \n",
       "12/13                 55      55        55    55           41  \n",
       "13/14                 51      51        51    51           34  \n",
       "14/15                 61      61        61    61           44  \n",
       "15/16                 51      51        51    51           37  \n",
       "16/17                 42      42        42    42           30  \n",
       "17/18                 44      44        44    44           31  \n",
       "18/19                 28      28        28    28           18  \n",
       "19/20                 37      37        37    37           19  \n",
       "20/21                 36      36        36    36           23  \n",
       "21/22                 24      24        24    24           16  "
      ]
     },
     "execution_count": 24,
     "metadata": {},
     "output_type": "execute_result"
    }
   ],
   "source": [
    "# use groupby fxn to display the data based on season categorization and use .count() to count the data in one season\n",
    "\n",
    "cr7.groupby('Season').count()"
   ]
  },
  {
   "cell_type": "code",
   "execution_count": 23,
   "id": "f97fb0d4",
   "metadata": {},
   "outputs": [
    {
     "data": {
      "text/plain": [
       "<AxesSubplot:xlabel='Season'>"
      ]
     },
     "execution_count": 23,
     "metadata": {},
     "output_type": "execute_result"
    },
    {
     "data": {
      "image/png": "[encoded data removed]",
      "text/plain": [
       "<Figure size 640x480 with 1 Axes>"
      ]
     },
     "metadata": {},
     "output_type": "display_data"
    }
   ],
   "source": [
    "# use plot.line() to plot the data categorized according to Season\n",
    "\n",
    "cr7.groupby('Season').Competition.count().plot.line()"
   ]
  },
  {
   "cell_type": "markdown",
   "id": "f8a0bb64",
   "metadata": {},
   "source": [
    "## <Font color = Blue> Bonus"
   ]
  },
  {
   "cell_type": "markdown",
   "id": "c11086a9",
   "metadata": {},
   "source": [
    "#### <font color = Red> Displaying the Minute when Ronaldo has scored the most number of goals"
   ]
  },
  {
   "cell_type": "code",
   "execution_count": 15,
   "id": "d15b39c3",
   "metadata": {},
   "outputs": [
    {
     "data": {
      "text/plain": [
       "90      17\n",
       "45      15\n",
       "89      15\n",
       "76      14\n",
       "70      14\n",
       "        ..\n",
       "105      1\n",
       "109      1\n",
       "90+7     1\n",
       "45+7     1\n",
       "45+2     1\n",
       "Name: Minute, Length: 106, dtype: int64"
      ]
     },
     "execution_count": 15,
     "metadata": {},
     "output_type": "execute_result"
    }
   ],
   "source": [
    "cr7.Minute.value_counts()"
   ]
  },
  {
   "cell_type": "code",
   "execution_count": 16,
   "id": "ae0e2da9",
   "metadata": {},
   "outputs": [
    {
     "data": {
      "text/plain": [
       "<AxesSubplot:>"
      ]
     },
     "execution_count": 16,
     "metadata": {},
     "output_type": "execute_result"
    },
    {
     "data": {
      "image/png": "[encoded data removed]",
      "text/plain": [
       "<Figure size 640x480 with 1 Axes>"
      ]
     },
     "metadata": {},
     "output_type": "display_data"
    }
   ],
   "source": [
    "cr7.Minute.value_counts().head(20).plot.bar()"
   ]
  },
  {
   "cell_type": "markdown",
   "id": "eb7b7498",
   "metadata": {},
   "source": [
    "#### <font color = Red> Displaying the teams he has scored most goals against"
   ]
  },
  {
   "cell_type": "code",
   "execution_count": 17,
   "id": "2cff3fef",
   "metadata": {},
   "outputs": [
    {
     "data": {
      "text/plain": [
       "<AxesSubplot:>"
      ]
     },
     "execution_count": 17,
     "metadata": {},
     "output_type": "execute_result"
    },
    {
     "data": {
      "image/png": "[encoded data removed]",
      "text/plain": [
       "<Figure size 640x480 with 1 Axes>"
      ]
     },
     "metadata": {},
     "output_type": "display_data"
    }
   ],
   "source": [
    "cr7.Opponent.value_counts().head(15).plot.bar()"
   ]
  },
  {
   "cell_type": "markdown",
   "id": "8ebff911",
   "metadata": {},
   "source": [
    "#### <font color = Red> Listing the competitions he has scored the most goals in"
   ]
  },
  {
   "cell_type": "code",
   "execution_count": 18,
   "id": "f6772e8d",
   "metadata": {
    "scrolled": false
   },
   "outputs": [
    {
     "data": {
      "text/plain": [
       "Competition\n",
       "LaLiga                   311\n",
       "UEFA Champions League    140\n",
       "Premier League           102\n",
       "Serie A                   81\n",
       "Copa del Rey              22\n",
       "Name: Season, dtype: int64"
      ]
     },
     "execution_count": 18,
     "metadata": {},
     "output_type": "execute_result"
    }
   ],
   "source": [
    "cr7.groupby('Competition').Season.count().sort_values(ascending=False).head(5)"
   ]
  },
  {
   "cell_type": "code",
   "execution_count": null,
   "id": "595486d1",
   "metadata": {},
   "outputs": [],
   "source": []
  }
 ],
 "metadata": {
  "kernelspec": {
   "display_name": "Python 3 (ipykernel)",
   "language": "python",
   "name": "python3"
  },
  "language_info": {
   "codemirror_mode": {
    "name": "ipython",
    "version": 3
   },
   "file_extension": ".py",
   "mimetype": "text/x-python",
   "name": "python",
   "nbconvert_exporter": "python",
   "pygments_lexer": "ipython3",
   "version": "3.9.13"
  }
 },
 "nbformat": 4,
 "nbformat_minor": 5
}
